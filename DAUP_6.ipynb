{
  "nbformat": 4,
  "nbformat_minor": 0,
  "metadata": {
    "colab": {
      "provenance": []
    },
    "kernelspec": {
      "name": "python3",
      "display_name": "Python 3"
    },
    "language_info": {
      "name": "python"
    }
  },
  "cells": [
    {
      "cell_type": "code",
      "execution_count": 1,
      "metadata": {
        "colab": {
          "base_uri": "https://localhost:8080/"
        },
        "id": "d7RsNH1tUE4I",
        "outputId": "5edce2e4-c87a-4d79-a545-efaf21fe0e41"
      },
      "outputs": [
        {
          "output_type": "stream",
          "name": "stdout",
          "text": [
            "    Invoice ID Branch       City Customer type  Gender  \\\n",
            "0  750-67-8428      A     Yangon        Member  Female   \n",
            "1  226-31-3081      C  Naypyitaw        Normal  Female   \n",
            "2  631-41-3108      A     Yangon        Normal    Male   \n",
            "3  123-19-1176      A     Yangon        Member    Male   \n",
            "4  373-73-7910      A     Yangon        Normal    Male   \n",
            "\n",
            "             Product line  Unit price  Quantity   Tax 5%     Total       Date  \\\n",
            "0       Health and beauty       74.69         7  26.1415  548.9715   1/5/2019   \n",
            "1  Electronic accessories       15.28         5   3.8200   80.2200   3/8/2019   \n",
            "2      Home and lifestyle       46.33         7  16.2155  340.5255   3/3/2019   \n",
            "3       Health and beauty       58.22         8  23.2880  489.0480  1/27/2019   \n",
            "4       Sports and travel       86.31         7  30.2085  634.3785   2/8/2019   \n",
            "\n",
            "    Time      Payment    cogs  gross margin percentage  gross income  Rating  \n",
            "0  13:08      Ewallet  522.83                 4.761905       26.1415     9.1  \n",
            "1  10:29         Cash   76.40                 4.761905        3.8200     9.6  \n",
            "2  13:23  Credit card  324.31                 4.761905       16.2155     7.4  \n",
            "3  20:33      Ewallet  465.76                 4.761905       23.2880     8.4  \n",
            "4  10:37      Ewallet  604.17                 4.761905       30.2085     5.3  \n"
          ]
        }
      ],
      "source": [
        "import pandas as pd\n",
        "# Assuming dataset.csv is in the current working directory.\n",
        "# If not, provide the full path to the file.\n",
        "try:\n",
        "  df = pd.read_csv('/content/supermarket_sales -.csv')\n",
        "  print(df.head()) # Print the first few rows to verify\n",
        "except FileNotFoundError:\n",
        "  print(\"Error: dataset.csv not found. Please ensure the file exists in the current directory or provide the correct path.\")\n",
        "except pd.errors.ParserError:\n",
        "    print(\"Error: Could not parse dataset.csv. Please check the file format.\")\n",
        "except Exception as e:\n",
        "  print(f\"An unexpected error occurred: {e}\")\n"
      ]
    },
    {
      "cell_type": "code",
      "source": [
        "\n",
        "import pandas as pd\n",
        "# Assuming dataset.csv is in the current working directory.\n",
        "# If not, provide the full path to the file.\n",
        "try:\n",
        "  df = pd.read_csv('/content/supermarket_sales -.csv')\n",
        "  # Print some info\n",
        "  print(df.info())\n",
        "except FileNotFoundError:\n",
        "  print(\"Error: dataset.csv not found. Please ensure the file exists in the current directory or provide the correct path.\")\n",
        "except pd.errors.ParserError:\n",
        "    print(\"Error: Could not parse dataset.csv. Please check the file format.\")\n",
        "except Exception as e:\n",
        "  print(f\"An unexpected error occurred: {e}\")\n"
      ],
      "metadata": {
        "colab": {
          "base_uri": "https://localhost:8080/"
        },
        "id": "JI1ClgZAUpW2",
        "outputId": "3206b82d-ffd0-476e-b114-7b5002aa4da1"
      },
      "execution_count": 2,
      "outputs": [
        {
          "output_type": "stream",
          "name": "stdout",
          "text": [
            "<class 'pandas.core.frame.DataFrame'>\n",
            "RangeIndex: 1000 entries, 0 to 999\n",
            "Data columns (total 17 columns):\n",
            " #   Column                   Non-Null Count  Dtype  \n",
            "---  ------                   --------------  -----  \n",
            " 0   Invoice ID               1000 non-null   object \n",
            " 1   Branch                   1000 non-null   object \n",
            " 2   City                     1000 non-null   object \n",
            " 3   Customer type            1000 non-null   object \n",
            " 4   Gender                   1000 non-null   object \n",
            " 5   Product line             1000 non-null   object \n",
            " 6   Unit price               1000 non-null   float64\n",
            " 7   Quantity                 1000 non-null   int64  \n",
            " 8   Tax 5%                   1000 non-null   float64\n",
            " 9   Total                    1000 non-null   float64\n",
            " 10  Date                     1000 non-null   object \n",
            " 11  Time                     1000 non-null   object \n",
            " 12  Payment                  1000 non-null   object \n",
            " 13  cogs                     1000 non-null   float64\n",
            " 14  gross margin percentage  1000 non-null   float64\n",
            " 15  gross income             1000 non-null   float64\n",
            " 16  Rating                   1000 non-null   float64\n",
            "dtypes: float64(7), int64(1), object(9)\n",
            "memory usage: 132.9+ KB\n",
            "None\n"
          ]
        }
      ]
    },
    {
      "cell_type": "code",
      "source": [
        "\n",
        "# Define events based on dataset features\n",
        "def event_a(row):\n",
        "  \"\"\"\n",
        "  Event A: A transaction is made by a Member customer.\n",
        "  \"\"\"\n",
        "  return row['Customer type'] == 'Member'\n",
        "\n",
        "def event_b(row):\n",
        "  \"\"\"\n",
        "  Event B: A transaction was made using Credit Card payment.\n",
        "  \"\"\"\n",
        "  return row['Payment'] == 'Credit card'\n",
        "\n",
        "# Apply the event definitions to create new columns in the DataFrame\n",
        "try:\n",
        "    df['Event_A'] = df.apply(event_a, axis=1)\n",
        "    df['Event_B'] = df.apply(event_b, axis=1)\n",
        "    print(df.head()) #display first 5 rows\n",
        "except KeyError as e:\n",
        "    print(f\"Error: Column '{e}' not found in the dataset. Please check the column name.\")\n",
        "except Exception as e:\n",
        "    print(f\"An unexpected error occurred: {e}\")\n"
      ],
      "metadata": {
        "colab": {
          "base_uri": "https://localhost:8080/"
        },
        "id": "6DXuUGF1Ux8z",
        "outputId": "3e798158-3b2b-4935-c933-8bac6bd9f424"
      },
      "execution_count": 3,
      "outputs": [
        {
          "output_type": "stream",
          "name": "stdout",
          "text": [
            "    Invoice ID Branch       City Customer type  Gender  \\\n",
            "0  750-67-8428      A     Yangon        Member  Female   \n",
            "1  226-31-3081      C  Naypyitaw        Normal  Female   \n",
            "2  631-41-3108      A     Yangon        Normal    Male   \n",
            "3  123-19-1176      A     Yangon        Member    Male   \n",
            "4  373-73-7910      A     Yangon        Normal    Male   \n",
            "\n",
            "             Product line  Unit price  Quantity   Tax 5%     Total       Date  \\\n",
            "0       Health and beauty       74.69         7  26.1415  548.9715   1/5/2019   \n",
            "1  Electronic accessories       15.28         5   3.8200   80.2200   3/8/2019   \n",
            "2      Home and lifestyle       46.33         7  16.2155  340.5255   3/3/2019   \n",
            "3       Health and beauty       58.22         8  23.2880  489.0480  1/27/2019   \n",
            "4       Sports and travel       86.31         7  30.2085  634.3785   2/8/2019   \n",
            "\n",
            "    Time      Payment    cogs  gross margin percentage  gross income  Rating  \\\n",
            "0  13:08      Ewallet  522.83                 4.761905       26.1415     9.1   \n",
            "1  10:29         Cash   76.40                 4.761905        3.8200     9.6   \n",
            "2  13:23  Credit card  324.31                 4.761905       16.2155     7.4   \n",
            "3  20:33      Ewallet  465.76                 4.761905       23.2880     8.4   \n",
            "4  10:37      Ewallet  604.17                 4.761905       30.2085     5.3   \n",
            "\n",
            "   Event_A  Event_B  \n",
            "0     True    False  \n",
            "1    False    False  \n",
            "2    False     True  \n",
            "3     True    False  \n",
            "4    False    False  \n"
          ]
        }
      ]
    },
    {
      "cell_type": "code",
      "source": [
        "\n",
        "# Calculate probabilities\n",
        "total_transactions = len(df)\n",
        "count_a = df['Event_A'].sum()\n",
        "count_b = df['Event_B'].sum()\n",
        "count_a_and_b = len(df[(df['Event_A'] == True) & (df['Event_B'] == True)])\n",
        "\n",
        "p_a = count_a / total_transactions\n",
        "p_b = count_b / total_transactions\n",
        "p_a_intersect_b = count_a_and_b / total_transactions\n",
        "p_a_union_b = p_a + p_b - p_a_intersect_b\n",
        "\n",
        "#Handle potential ZeroDivisionError\n",
        "if p_b == 0:\n",
        "  p_a_given_b = 0  # or handle it differently, e.g., print a warning\n",
        "else:\n",
        "  p_a_given_b = p_a_intersect_b / p_b\n",
        "\n",
        "\n",
        "print(f\"P(A): {p_a}\")\n",
        "print(f\"P(B): {p_b}\")\n",
        "print(f\"P(A ∩ B): {p_a_intersect_b}\")\n",
        "print(f\"P(A ∪ B): {p_a_union_b}\")\n",
        "print(f\"P(A | B): {p_a_given_b}\")\n"
      ],
      "metadata": {
        "colab": {
          "base_uri": "https://localhost:8080/"
        },
        "id": "5DKeCr6pAOpp",
        "outputId": "f0d33e04-d102-4856-b401-6db8392235c3"
      },
      "execution_count": 4,
      "outputs": [
        {
          "output_type": "stream",
          "name": "stdout",
          "text": [
            "P(A): 0.501\n",
            "P(B): 0.311\n",
            "P(A ∩ B): 0.172\n",
            "P(A ∪ B): 0.6400000000000001\n",
            "P(A | B): 0.5530546623794211\n"
          ]
        }
      ]
    },
    {
      "cell_type": "code",
      "source": [
        "\n",
        "import pandas as pd\n",
        "\n",
        "try:\n",
        "    df = pd.read_csv('/content/supermarket_sales -.csv')\n",
        "\n",
        "    # Calculate the probability of a transaction belonging to Health & Beauty\n",
        "    health_beauty_transactions = len(df[df['Product line'] == 'Health and beauty'])\n",
        "    total_transactions = len(df)\n",
        "    probability_health_beauty = health_beauty_transactions / total_transactions\n",
        "\n",
        "    print(f\"The probability that a randomly chosen transaction belongs to the Health & Beauty product line is: {probability_health_beauty}\")\n",
        "\n",
        "except FileNotFoundError:\n",
        "    print(\"Error: supermarket_sales -.csv not found. Please ensure the file exists in the current directory or provide the correct path.\")\n",
        "except KeyError:\n",
        "    print(\"Error: 'Product line' column not found in the dataset. Please check the column name.\")\n",
        "except Exception as e:\n",
        "    print(f\"An unexpected error occurred: {e}\")\n"
      ],
      "metadata": {
        "colab": {
          "base_uri": "https://localhost:8080/"
        },
        "id": "Aadf-vJZAyXF",
        "outputId": "af0e341e-79e8-4477-9bb8-00170373ebb4"
      },
      "execution_count": 5,
      "outputs": [
        {
          "output_type": "stream",
          "name": "stdout",
          "text": [
            "The probability that a randomly chosen transaction belongs to the Health & Beauty product line is: 0.152\n"
          ]
        }
      ]
    },
    {
      "cell_type": "code",
      "source": [
        "\n",
        "import pandas as pd\n",
        "\n",
        "try:\n",
        "    df = pd.read_csv('/content/supermarket_sales -.csv')\n",
        "    # Filter for transactions where the customer used Ewallet\n",
        "    ewallet_transactions = df[df['Payment'] == 'Ewallet']\n",
        "    # Count transactions with more than 5 items for Ewallet users\n",
        "    more_than_5_items_ewallet = len(ewallet_transactions[ewallet_transactions['Quantity'] > 5])\n",
        "    # Total number of Ewallet transactions\n",
        "    total_ewallet_transactions = len(ewallet_transactions)\n",
        "    # Calculate the probability\n",
        "    if total_ewallet_transactions > 0 :\n",
        "      probability = more_than_5_items_ewallet / total_ewallet_transactions\n",
        "      print(f\"The probability that a customer who used Ewallet purchased more than 5 items is: {probability}\")\n",
        "    else:\n",
        "      print(\"No Ewallet transactions found in the dataset.\")\n",
        "except FileNotFoundError:\n",
        "    print(\"Error: supermarket_sales -.csv not found. Please ensure the file exists in the current directory or provide the correct path.\")\n",
        "except KeyError as e:\n",
        "    print(f\"Error: Column '{e}' not found in the dataset. Please check the column name.\")\n",
        "except Exception as e:\n",
        "    print(f\"An unexpected error occurred: {e}\")"
      ],
      "metadata": {
        "colab": {
          "base_uri": "https://localhost:8080/"
        },
        "id": "SglDMTh-AyQ9",
        "outputId": "c6e609dd-f21f-450b-a46a-eed63a90cc81"
      },
      "execution_count": 6,
      "outputs": [
        {
          "output_type": "stream",
          "name": "stdout",
          "text": [
            "The probability that a customer who used Ewallet purchased more than 5 items is: 0.48695652173913045\n"
          ]
        }
      ]
    },
    {
      "cell_type": "code",
      "source": [
        "import pandas as pd\n",
        "try:\n",
        "    df = pd.read_csv('/content/supermarket_sales -.csv')\n",
        "    # Filter transactions from Yangon\n",
        "    yangon_transactions = df[df['City'] == 'Yangon']\n",
        "    # Count transactions with Cash payment in Yangon\n",
        "    cash_transactions_yangon = len(yangon_transactions[yangon_transactions['Payment'] == 'Cash'])\n",
        "    # Total number of transactions in Yangon\n",
        "    total_yangon_transactions = len(yangon_transactions)\n",
        "    # Calculate the probability\n",
        "    if total_yangon_transactions > 0:\n",
        "        probability_cash_yangon = cash_transactions_yangon / total_yangon_transactions\n",
        "        print(f\"The probability that a randomly selected transaction from Yangon used Cash is: {probability_cash_yangon}\")\n",
        "    else:\n",
        "        print(\"No transactions found in Yangon.\")\n",
        "except FileNotFoundError:\n",
        "    print(\"Error: supermarket_sales -.csv not found. Please ensure the file exists in the current directory or provide the correct path.\")\n",
        "except KeyError as e:\n",
        "    print(f\"Error: Column '{e}' not found in the dataset. Please check the column name.\")\n",
        "except Exception as e:\n",
        "    print(f\"An unexpected error occurred: {e}\")"
      ],
      "metadata": {
        "colab": {
          "base_uri": "https://localhost:8080/"
        },
        "id": "-GyPwvjvBM7r",
        "outputId": "18732978-c660-4483-909f-8c8b67c4fb0d"
      },
      "execution_count": 7,
      "outputs": [
        {
          "output_type": "stream",
          "name": "stdout",
          "text": [
            "The probability that a randomly selected transaction from Yangon used Cash is: 0.3235294117647059\n"
          ]
        }
      ]
    },
    {
      "cell_type": "code",
      "source": [
        "try:\n",
        "    df = pd.read_csv('/content/supermarket_sales -.csv')\n",
        "    # Filter for members with rating > 8\n",
        "    member_high_rating = df[(df['Customer type'] == 'Member') & (df['Rating'] > 8)]\n",
        "    # Calculate the probability\n",
        "    probability = len(member_high_rating) / len(df)\n",
        "    print(f\"The probability of selecting a member with a rating above 8 is: {probability}\")\n",
        "except FileNotFoundError:\n",
        "    print(\"Error: supermarket_sales -.csv not found. Please ensure the file exists in the current directory or provide the correct path.\")\n",
        "except KeyError as e:\n",
        "    print(f\"Error: Column '{e}' not found in the dataset. Please check the column name.\")\n",
        "except Exception as e:\n",
        "    print(f\"An unexpected error occurred: {e}\")"
      ],
      "metadata": {
        "colab": {
          "base_uri": "https://localhost:8080/"
        },
        "id": "kRK4RRacBn35",
        "outputId": "711391ff-06eb-4b11-8ff2-a29bc3d6e460"
      },
      "execution_count": 8,
      "outputs": [
        {
          "output_type": "stream",
          "name": "stdout",
          "text": [
            "The probability of selecting a member with a rating above 8 is: 0.157\n"
          ]
        }
      ]
    },
    {
      "cell_type": "code",
      "source": [
        "import math\n",
        "def factorial(n):\n",
        "    if n == 0:\n",
        "        return 1\n",
        "    else:\n",
        "        return n * factorial(n-1)\n",
        "def permutations(n, r):\n",
        "    if n < r or n < 0 or r < 0:\n",
        "        return 0  # Handle invalid input\n",
        "    return factorial(n) // factorial(n - r)\n",
        "def combinations(n, r):\n",
        "    if n < r or n < 0 or r < 0:\n",
        "        return 0 # Handle invalid input\n",
        "    return factorial(n) // (factorial(r) * factorial(n - r))\n",
        "# Example usage\n",
        "number = 5\n",
        "result_factorial = factorial(number)\n",
        "print(f\"The factorial of {number} is {result_factorial}\")\n",
        "n_perm = 5\n",
        "r_perm = 2\n",
        "result_permutation = permutations(n_perm, r_perm)\n",
        "print(f\"P({n_perm}, {r_perm}) = {result_permutation}\")\n",
        "n_comb = 5\n",
        "r_comb = 2\n",
        "result_combination = combinations(n_comb, r_comb)\n",
        "print(f\"C({n_comb}, {r_comb}) = {result_combination}\")"
      ],
      "metadata": {
        "colab": {
          "base_uri": "https://localhost:8080/"
        },
        "id": "PcosreZYBuus",
        "outputId": "785f0cbd-14c4-4b73-9a7a-c6a3481f8c87"
      },
      "execution_count": 9,
      "outputs": [
        {
          "output_type": "stream",
          "name": "stdout",
          "text": [
            "The factorial of 5 is 120\n",
            "P(5, 2) = 20\n",
            "C(5, 2) = 10\n"
          ]
        }
      ]
    },
    {
      "cell_type": "code",
      "source": [
        "n_perm = 20  # Total number of transactions\n",
        "r_perm = 5   # Number of transactions to arrange\n",
        "permutation_result = permutations(n_perm, r_perm)\n",
        "print(f\"The number of ways to arrange 5 transactions from 20 is: {permutation_result}\")\n",
        "# Combination: How many ways can 3 different product lines be selected from the 6 available product categories?\n",
        "n_comb = 6  # Total number of product categories\n",
        "r_comb = 3  # Number of product categories to select\n",
        "combination_result = combinations(n_comb, r_comb)\n",
        "print(f\"The number of ways to select 3 product lines from 6 categories is: {combination_result}\")\n",
        "# Assuming 'Branch' is a column in your dataframe\n",
        "try:\n",
        "    unique_branches = df['Branch'].nunique()\n",
        "    factorial_branches = factorial(unique_branches)\n",
        "    print(f\"The factorial of the number of unique branches is: {factorial_branches}\")\n",
        "except KeyError:\n",
        "    print(\"Error: 'Branch' column not found in the dataset.\")\n",
        "except Exception as e:\n",
        "    print(f\"An unexpected error occurred: {e}\")"
      ],
      "metadata": {
        "colab": {
          "base_uri": "https://localhost:8080/"
        },
        "id": "6LGWza1aDJlk",
        "outputId": "01647340-5990-4471-ab44-e14f6900576a"
      },
      "execution_count": 10,
      "outputs": [
        {
          "output_type": "stream",
          "name": "stdout",
          "text": [
            "The number of ways to arrange 5 transactions from 20 is: 1860480\n",
            "The number of ways to select 3 product lines from 6 categories is: 20\n",
            "The factorial of the number of unique branches is: 6\n"
          ]
        }
      ]
    },
    {
      "cell_type": "code",
      "source": [
        "def combinations(n, r):\n",
        "    if n < r or n < 0 or r < 0:\n",
        "        return 0 # Handle invalid input\n",
        "    return math.factorial(n) // (math.factorial(r) * math.factorial(n - r))\n",
        "available_methods = 3\n",
        "methods_to_display = 3\n",
        "ways_to_display = combinations(available_methods, methods_to_display)\n",
        "print(f\"The number of ways to display 3 payment methods from 3 types is: {ways_to_display}\")"
      ],
      "metadata": {
        "colab": {
          "base_uri": "https://localhost:8080/"
        },
        "id": "piP83QJdDRRk",
        "outputId": "3eab1e0e-0ef1-4190-8e7a-378be2d734aa"
      },
      "execution_count": 11,
      "outputs": [
        {
          "output_type": "stream",
          "name": "stdout",
          "text": [
            "The number of ways to display 3 payment methods from 3 types is: 1\n"
          ]
        }
      ]
    },
    {
      "cell_type": "code",
      "source": [
        "def combinations(n, r):\n",
        "    if n < r or n < 0 or r < 0:\n",
        "        return 0 # Handle invalid input\n",
        "    return math.factorial(n) // (math.factorial(r) * math.factorial(n - r))\n",
        "# Calculate the number of ways to select 5 employees from 15\n",
        "total_employees = 15\n",
        "employees_to_select = 5\n",
        "ways_to_select = combinations(total_employees, employees_to_select)\n",
        "print(f\"The number of ways to select 5 employees from 15 is: {ways_to_select}\")"
      ],
      "metadata": {
        "colab": {
          "base_uri": "https://localhost:8080/"
        },
        "id": "95acAXYaDh74",
        "outputId": "8a55da59-dd7b-462a-bb6d-5c0fea340d42"
      },
      "execution_count": 12,
      "outputs": [
        {
          "output_type": "stream",
          "name": "stdout",
          "text": [
            "The number of ways to select 5 employees from 15 is: 3003\n"
          ]
        }
      ]
    },
    {
      "cell_type": "code",
      "source": [
        "def combinations(n, r):\n",
        "    if n < r or n < 0 or r < 0:\n",
        "        return 0 # Handle invalid input\n",
        "    return math.factorial(n) // (math.factorial(r) * math.factorial(n - r))\n",
        "# Number of letters in the English alphabet\n",
        "alphabet_size = 26\n",
        "# Number of letters to choose for the invoice code\n",
        "num_letters = 6\n",
        "# Calculate the number of ways to create unique invoice codes\n",
        "invoice_combinations = combinations(alphabet_size, num_letters)\n",
        "print(f\"The number of ways to create unique invoice codes is: {invoice_combinations}\")"
      ],
      "metadata": {
        "colab": {
          "base_uri": "https://localhost:8080/"
        },
        "id": "U4xEHOziDnDa",
        "outputId": "ee19f687-abbd-42eb-a129-02946eb5d7bf"
      },
      "execution_count": 13,
      "outputs": [
        {
          "output_type": "stream",
          "name": "stdout",
          "text": [
            "The number of ways to create unique invoice codes is: 230230\n"
          ]
        }
      ]
    }
  ]
}